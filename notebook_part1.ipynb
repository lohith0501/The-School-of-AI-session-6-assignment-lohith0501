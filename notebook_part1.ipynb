{
 "metadata": {
  "language_info": {
   "codemirror_mode": {
    "name": "ipython",
    "version": 3
   },
   "file_extension": ".py",
   "mimetype": "text/x-python",
   "name": "python",
   "nbconvert_exporter": "python",
   "pygments_lexer": "ipython3",
   "version": "3.9.5"
  },
  "orig_nbformat": 2,
  "kernelspec": {
   "name": "python3",
   "display_name": "Python 3.9.5 64-bit ('pytest_env': venv)"
  },
  "metadata": {
   "interpreter": {
    "hash": "a00a570a9c2bcb84fd0cea4c47cf3e71806131fc8eb856c0536f0f9e2b84831d"
   }
  },
  "interpreter": {
   "hash": "a00a570a9c2bcb84fd0cea4c47cf3e71806131fc8eb856c0536f0f9e2b84831d"
  }
 },
 "nbformat": 4,
 "nbformat_minor": 2,
 "cells": [
  {
   "source": [
    "# Session 6 Assignment 1 "
   ],
   "cell_type": "markdown",
   "metadata": {}
  },
  {
   "cell_type": "code",
   "execution_count": 13,
   "metadata": {},
   "outputs": [],
   "source": [
    "from Part1 import generate_deck_using_lambda_zip_map\n",
    "from Part1 import generate_deck_normal\n",
    "from Part1 import poker_x_teen_patti\n",
    "from Part1 import *"
   ]
  },
  {
   "source": [
    "### Write a single expression that includes lambda, zip, and map functions to select create 52 cards in a deck"
   ],
   "cell_type": "markdown",
   "metadata": {}
  },
  {
   "cell_type": "code",
   "execution_count": 14,
   "metadata": {},
   "outputs": [],
   "source": [
    "# Provide suits and values that need to be considered for generating deck\n",
    "value = ['2', '3', '4', '5', '6', '7', '8',\n",
    "         '9', '10', 'jack', 'queen', 'king', 'ace']\n",
    "suits = ['spades', 'clubs', 'hearts', 'diamonds']"
   ]
  },
  {
   "cell_type": "code",
   "execution_count": 15,
   "metadata": {},
   "outputs": [
    {
     "output_type": "stream",
     "name": "stdout",
     "text": [
      "Count of deck generated: 52\n\nDeck details: ['spades2', 'clubs2', 'hearts2', 'diamonds2', 'spades3', 'clubs3', 'hearts3', 'diamonds3', 'spades4', 'clubs4', 'hearts4', 'diamonds4', 'spades5', 'clubs5', 'hearts5', 'diamonds5', 'spades6', 'clubs6', 'hearts6', 'diamonds6', 'spades7', 'clubs7', 'hearts7', 'diamonds7', 'spades8', 'clubs8', 'hearts8', 'diamonds8', 'spades9', 'clubs9', 'hearts9', 'diamonds9', 'spades10', 'clubs10', 'hearts10', 'diamonds10', 'spadesjack', 'clubsjack', 'heartsjack', 'diamondsjack', 'spadesqueen', 'clubsqueen', 'heartsqueen', 'diamondsqueen', 'spadesking', 'clubsking', 'heartsking', 'diamondsking', 'spadesace', 'clubsace', 'heartsace', 'diamondsace']\n"
     ]
    }
   ],
   "source": [
    "print(f'Count of deck generated: {len(generate_deck_using_lambda_zip_map(value,suits))}\\n\\nDeck details: {generate_deck_using_lambda_zip_map(value,suits)}')"
   ]
  },
  {
   "source": [
    "### Write a normal function without using lambda, zip, and map function to create 52 cards in a deck "
   ],
   "cell_type": "markdown",
   "metadata": {}
  },
  {
   "cell_type": "code",
   "execution_count": 16,
   "metadata": {},
   "outputs": [
    {
     "output_type": "stream",
     "name": "stdout",
     "text": [
      "Count of deck generated: 52\n\nDeck details: ['2 spades', '2 clubs', '2 hearts', '2 diamonds', '3 spades', '3 clubs', '3 hearts', '3 diamonds', '4 spades', '4 clubs', '4 hearts', '4 diamonds', '5 spades', '5 clubs', '5 hearts', '5 diamonds', '6 spades', '6 clubs', '6 hearts', '6 diamonds', '7 spades', '7 clubs', '7 hearts', '7 diamonds', '8 spades', '8 clubs', '8 hearts', '8 diamonds', '9 spades', '9 clubs', '9 hearts', '9 diamonds', '10 spades', '10 clubs', '10 hearts', '10 diamonds', 'jack spades', 'jack clubs', 'jack hearts', 'jack diamonds', 'queen spades', 'queen clubs', 'queen hearts', 'queen diamonds', 'king spades', 'king clubs', 'king hearts', 'king diamonds', 'ace spades', 'ace clubs', 'ace hearts', 'ace diamonds']\n"
     ]
    }
   ],
   "source": [
    "print(f'Count of deck generated: {len(generate_deck_normal(suits,value))}\\n\\nDeck details: {generate_deck_normal(suits,value)}')"
   ]
  },
  {
   "source": [
    "### Write a function that, when given 2 sets of 3 or 4 or 5 cards (1 game can only have 3 cards with each player or 4 cards or 5 cards per player) (1 deck of cards only), (2 players only), can identify who won the game of poker"
   ],
   "cell_type": "markdown",
   "metadata": {}
  },
  {
   "cell_type": "code",
   "execution_count": 17,
   "metadata": {},
   "outputs": [],
   "source": [
    "set1 = ['ace hearts', 'king hearts', 'queen hearts','10 hearts','jack hearts']\n",
    "set2 = ['9 spades', '8 spades', 'queen spades','jack spades','10 spades']"
   ]
  },
  {
   "cell_type": "code",
   "execution_count": 18,
   "metadata": {},
   "outputs": [
    {
     "output_type": "stream",
     "name": "stdout",
     "text": [
      "[10, 11, 12, 13, 14]\n[10, 11, 12, 13, 14]\nTrue True\n14,13,12,11,10\n[8, 9, 10, 11, 12]\n[8, 9, 10, 11, 12]\nTrue True\n12,11,10,9,8\nPlayer 1 hand rating: 1 14\nPlayer 2 hand rating: 2 12\nWinner is player 1\n1\n"
     ]
    }
   ],
   "source": [
    "print(show(set1,set2))"
   ]
  },
  {
   "source": [
    "# END"
   ],
   "cell_type": "markdown",
   "metadata": {}
  },
  {
   "cell_type": "code",
   "execution_count": null,
   "metadata": {},
   "outputs": [],
   "source": []
  }
 ]
}