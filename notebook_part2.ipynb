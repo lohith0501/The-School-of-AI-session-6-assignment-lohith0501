{
 "metadata": {
  "language_info": {
   "codemirror_mode": {
    "name": "ipython",
    "version": 3
   },
   "file_extension": ".py",
   "mimetype": "text/x-python",
   "name": "python",
   "nbconvert_exporter": "python",
   "pygments_lexer": "ipython3",
   "version": "3.9.5"
  },
  "orig_nbformat": 2,
  "kernelspec": {
   "name": "python395jvsc74a57bd0a00a570a9c2bcb84fd0cea4c47cf3e71806131fc8eb856c0536f0f9e2b84831d",
   "display_name": "Python 3.9.5 64-bit ('pytest_env': venv)"
  },
  "metadata": {
   "interpreter": {
    "hash": "a00a570a9c2bcb84fd0cea4c47cf3e71806131fc8eb856c0536f0f9e2b84831d"
   }
  }
 },
 "nbformat": 4,
 "nbformat_minor": 2,
 "cells": [
  {
   "source": [
    "# Session 6 Assignment 2 "
   ],
   "cell_type": "markdown",
   "metadata": {}
  },
  {
   "cell_type": "code",
   "execution_count": 1,
   "metadata": {},
   "outputs": [],
   "source": [
    "import numpy as np \n",
    "import pandas as pd\n",
    "import random\n",
    "from Part2 import generate_fibonacci_vocab\n",
    "from Part2 import check_fibonacci_number\n",
    "from Part2 import iter_1_even_iter_2_odd_addition\n",
    "from Part2 import strip_vowel\n",
    "from Part2 import sigmoid_func_1d_array\n",
    "from Part2 import char_shift\n",
    "from Part2 import swear_word_check\n",
    "from Part2 import even_num_sum\n",
    "from Part2 import biggest_char_in_string\n",
    "from Part2 import third_num_sum\n",
    "from Part2 import generate_random_number_plates\n",
    "from Part2 import number_plate\n",
    "from functools import partial"
   ]
  },
  {
   "source": [
    "### Write a function using only list filter lambda that can tell whether a number is a Fibonacci number or not. You can use a pre-calculated list/dict to store fab numbers till 10000"
   ],
   "cell_type": "markdown",
   "metadata": {}
  },
  {
   "cell_type": "code",
   "execution_count": 2,
   "metadata": {},
   "outputs": [],
   "source": [
    "# Creating 10,000 fibonacci numbers vocabulary\n",
    "fib_vocab=generate_fibonacci_vocab(10000)"
   ]
  },
  {
   "cell_type": "code",
   "execution_count": 3,
   "metadata": {},
   "outputs": [],
   "source": [
    "# Choose a random number to check if it is fib number\n",
    "choice_num = [np.random.choice(10)]"
   ]
  },
  {
   "cell_type": "code",
   "execution_count": 4,
   "metadata": {},
   "outputs": [
    {
     "output_type": "stream",
     "name": "stdout",
     "text": [
      " Random number chosen: [6]\n This is ['Not Fib_num']\n"
     ]
    }
   ],
   "source": [
    "# Checks if random number chosen is fibonacci or not\n",
    "print(f' Random number chosen: {choice_num}\\n This is {check_fibonacci_number(choice_num,fib_vocab)}')"
   ]
  },
  {
   "source": [
    "### Using list comprehension (and zip/lambda/etc if required) write expressions that:\n",
    "### add 2 iterables a and b such that a is even and b is odd"
   ],
   "cell_type": "markdown",
   "metadata": {}
  },
  {
   "cell_type": "code",
   "execution_count": 5,
   "metadata": {},
   "outputs": [],
   "source": [
    "# Generate two iterables using random number as choice\n",
    "iter_choice=np.random.choice(10)\n",
    "a=[*range(iter_choice)]\n",
    "b=[*range(iter_choice)]"
   ]
  },
  {
   "cell_type": "code",
   "execution_count": 6,
   "metadata": {},
   "outputs": [
    {
     "output_type": "stream",
     "name": "stdout",
     "text": [
      " Sum of A:even & B:odd list\n [1]\n"
     ]
    }
   ],
   "source": [
    "# Produce list of added numbers having a as even and b as odd \n",
    "print(f' Sum of A:even & B:odd list\\n {iter_1_even_iter_2_odd_addition(a,b)}')"
   ]
  },
  {
   "source": [
    "### strips every vowel from a string provided (tsai>>t s)"
   ],
   "cell_type": "markdown",
   "metadata": {}
  },
  {
   "cell_type": "code",
   "execution_count": 7,
   "metadata": {},
   "outputs": [],
   "source": [
    "# Enter string of your choice\n",
    "string='tsai'"
   ]
  },
  {
   "cell_type": "code",
   "execution_count": 8,
   "metadata": {},
   "outputs": [
    {
     "output_type": "stream",
     "name": "stdout",
     "text": [
      "t s\n"
     ]
    }
   ],
   "source": [
    "# Fetch all vowels in the string\n",
    "print(strip_vowel(string))"
   ]
  },
  {
   "source": [
    "### acts like a sigmoid function for a 1D array"
   ],
   "cell_type": "markdown",
   "metadata": {}
  },
  {
   "cell_type": "code",
   "execution_count": 9,
   "metadata": {},
   "outputs": [],
   "source": [
    "# assign 1D array with 100 points ranging between -10 to +10\n",
    "x = np.linspace(-10, 10, 10)"
   ]
  },
  {
   "cell_type": "code",
   "execution_count": 10,
   "metadata": {},
   "outputs": [
    {
     "output_type": "stream",
     "name": "stdout",
     "text": [
      "[4.53978687e-05 4.18766684e-04 3.85103236e-03 3.44451957e-02\n 2.47663801e-01 7.52336199e-01 9.65554804e-01 9.96148968e-01\n 9.99581233e-01 9.99954602e-01]\n"
     ]
    }
   ],
   "source": [
    "# Sigmoid output for 1D array\n",
    "print(sigmoid_func_1d_array(x))"
   ]
  },
  {
   "source": [
    "### takes a small character string and shifts all characters by 5 (handle boundary conditions) tsai>>yxfn"
   ],
   "cell_type": "markdown",
   "metadata": {}
  },
  {
   "cell_type": "code",
   "execution_count": 11,
   "metadata": {},
   "outputs": [],
   "source": [
    "# Input for the string function to shift \n",
    "ref='Tsai'\n",
    "shift=5"
   ]
  },
  {
   "cell_type": "code",
   "execution_count": 12,
   "metadata": {},
   "outputs": [
    {
     "output_type": "stream",
     "name": "stdout",
     "text": [
      " Shift of 5 positions for Tsai is \n yxfn\n"
     ]
    }
   ],
   "source": [
    "print(f' Shift of {shift} positions for {ref} is \\n {char_shift(ref,shift)}')"
   ]
  },
  {
   "source": [
    "### A list comprehension expression that takes a ~200-word paragraph, and checks whether it has any of the swear words mentioned in https://github.com/RobertJGabriel/Google-profanity-words/blob/master/list.txt "
   ],
   "cell_type": "markdown",
   "metadata": {}
  },
  {
   "cell_type": "code",
   "execution_count": 13,
   "metadata": {},
   "outputs": [],
   "source": [
    "### Loading profanity words\n",
    "gpw_vocab=pd.read_excel(\"Google-profanity-words.xlsx\")"
   ]
  },
  {
   "cell_type": "code",
   "execution_count": 14,
   "metadata": {},
   "outputs": [],
   "source": [
    "### Reference paragraph to check for swear words\n",
    "ref_para=\"\"\"When 5h1t frustrations mount at work, maybe you think some unsavoury words about a colleague’s actions or a client’s email. (Maybe, while working at home on your own, you even say them aloud, too.) But seldom do the choice phrases we keep to ourselves spill out into the professional field; according to the largely unwritten rules governing workplace behaviour, conventional wisdom says swear words aren’t a part of a polished shit vocabulary.\n",
    "\n",
    "However, things don’t always work out that way – even on the world stage. In early May, as tensions mounted between China and the Philippines over disputed waters in the South China Sea, Teodoro Locsin, the Philippine Foreign Minister, sent a startling tweet from his personal account: China, my friend, how politely can I put it? Let me see… O…GET THE FUCK OUT\n",
    "\n",
    "As expected, backlash and criticism followed. But while Locsin retracted his statement, he also tweeted that \"usual suave diplomatic speak gets nothing done\". True, there’s nothing diplomatic about all-caps Twitter swearing – and Locsin certainly got the world’s attention, arguably accomplishing exactly what the tweet was meant to.\n",
    "\n",
    "So, what should we take away from this unusual display? Is there actually a strategic way to deploy a swear word to get what you want? Actually, while swearing may still be well outside the realm of what’s considered acceptable in a workplace lexicon, there may be some benefits to a carefully placed swear word or two.\n",
    "\n",
    "Even the worst words exist for a reason\n",
    "\n",
    "The fact that there are some words that should never be spoken at work – or, often, anywhere – is well established. Hate speech, racist or sexist remarks and abusive language are never justified, and don’t have any strategic use. However, there’s a whole range of other swear words whose place is a bit more nebulous. These words, of varying strength, are not actually harmful, but could be considered impolite.\n",
    "\n",
    "Regardless of which word you choose, though, business etiquette expert Dianne Gottsman argues that these those words have no place at work. Gottsman, founder of The Protocol School of Texas, adds that they aren’t really necessary, anyway.\n",
    "\n",
    "Gottsman points to a scene from the classic 1981 film Mommie Dearest, in which Faye Dunaway, playing Joan Crawford, walks into a boardroom and tells the “fellas” not to mess with her – albeit far less politely. “I love that,” says Gottsman. “But would I walk into a boardroom and say that? No. I’d think it, and my demeanour would show it, but I don’t have to say those words to get things done. [Locsin] did not have to say that word on Twitter to get something done.\"\"\"\n"
   ]
  },
  {
   "cell_type": "code",
   "execution_count": 15,
   "metadata": {},
   "outputs": [
    {
     "output_type": "stream",
     "name": "stdout",
     "text": [
      "Swear word present in input paragraph\n"
     ]
    }
   ],
   "source": [
    "print(swear_word_check(gpw_vocab,ref_para))"
   ]
  },
  {
   "source": [
    "### Using reduce function:\n",
    "#### add only even numbers in a list"
   ],
   "cell_type": "markdown",
   "metadata": {}
  },
  {
   "cell_type": "code",
   "execution_count": 16,
   "metadata": {},
   "outputs": [],
   "source": [
    "### List for even number check\n",
    "Choose_list_size=20\n",
    "ref_even_check_list=[*range(Choose_list_size)]"
   ]
  },
  {
   "cell_type": "code",
   "execution_count": 17,
   "metadata": {},
   "outputs": [
    {
     "output_type": "stream",
     "name": "stdout",
     "text": [
      "Sum of even numbers between 0-20: 90\n"
     ]
    }
   ],
   "source": [
    "### Sum of even numbers in a list passed\n",
    "print(f'Sum of even numbers between 0-{Choose_list_size}: {even_num_sum(ref_even_check_list)}')"
   ]
  },
  {
   "source": [
    "### find the biggest character in a string (printable ASCII characters)"
   ],
   "cell_type": "markdown",
   "metadata": {}
  },
  {
   "cell_type": "code",
   "execution_count": 18,
   "metadata": {},
   "outputs": [],
   "source": [
    "### Consider below string to identify biggest character wrt ASCII value\n",
    "asc_ref_string='Printable ASCII characters'"
   ]
  },
  {
   "cell_type": "code",
   "execution_count": 19,
   "metadata": {},
   "outputs": [
    {
     "output_type": "stream",
     "name": "stdout",
     "text": [
      "Biggest character: t\n"
     ]
    }
   ],
   "source": [
    "print(f'Biggest character: {biggest_char_in_string(asc_ref_string)}')"
   ]
  },
  {
   "source": [
    "### adds every 3rd number in a list"
   ],
   "cell_type": "markdown",
   "metadata": {}
  },
  {
   "cell_type": "code",
   "execution_count": 20,
   "metadata": {},
   "outputs": [],
   "source": [
    "### Generate reference list\n",
    "Choose_list_size=20\n",
    "ref_third_num_add_lst=[*range(Choose_list_size)]"
   ]
  },
  {
   "cell_type": "code",
   "execution_count": 21,
   "metadata": {},
   "outputs": [
    {
     "output_type": "stream",
     "name": "stdout",
     "text": [
      "Sum of all third num in a list: 63\n"
     ]
    }
   ],
   "source": [
    "print(f'Sum of all third num in a list: {third_num_sum(ref_third_num_add_lst)}')"
   ]
  },
  {
   "source": [
    "### Using randint, random.choice and list comprehensions, write an expression that generates 15 random KADDAADDDD number plates, where KA is fixed, D stands for a digit, and A stands for Capital alphabets. 10<<DD<<99 & 1000<<DDDD<<9999"
   ],
   "cell_type": "markdown",
   "metadata": {}
  },
  {
   "cell_type": "code",
   "execution_count": 22,
   "metadata": {},
   "outputs": [
    {
     "output_type": "stream",
     "name": "stdout",
     "text": [
      "['KA12VK4967', 'KA63NV9351', 'KA43JN4124', 'KA72VU5989', 'KA82GW8692', 'KA40WO8184', 'KA20MS2377', 'KA41HX9115', 'KA61XW7701', 'KA71HN6329', 'KA61NR7287', 'KA80OZ8686', 'KA10JK3566', 'KA50DB8685', 'KA42AV4280']\n"
     ]
    }
   ],
   "source": [
    "print(generate_random_number_plates(15))"
   ]
  },
  {
   "source": [
    "### Write the above again from scratch where KA can be changed to DL, and 1000/9999 ranges can be provided. Now use a partial function such that 1000/9999 are hardcoded, but KA can be provided"
   ],
   "cell_type": "markdown",
   "metadata": {}
  },
  {
   "cell_type": "code",
   "execution_count": 23,
   "metadata": {},
   "outputs": [],
   "source": [
    "### Fix function by providing the ranges\n",
    "range_fix=partial(number_plate,1000,9999)"
   ]
  },
  {
   "cell_type": "code",
   "execution_count": 24,
   "metadata": {},
   "outputs": [
    {
     "output_type": "stream",
     "name": "stdout",
     "text": [
      "DL22CZ8784\n"
     ]
    }
   ],
   "source": [
    "### Provide state which you prefer \n",
    "print(range_fix('DL'))"
   ]
  },
  {
   "source": [
    "# End "
   ],
   "cell_type": "markdown",
   "metadata": {}
  },
  {
   "cell_type": "code",
   "execution_count": null,
   "metadata": {},
   "outputs": [],
   "source": []
  }
 ]
}